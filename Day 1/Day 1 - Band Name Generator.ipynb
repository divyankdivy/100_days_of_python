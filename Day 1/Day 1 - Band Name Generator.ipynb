{
 "cells": [
  {
   "cell_type": "code",
   "execution_count": null,
   "id": "39c6940f",
   "metadata": {},
   "outputs": [
    {
     "name": "stdout",
     "output_type": "stream",
     "text": [
      "Welcome to the Band Name generator\n",
      "What is the name of the city you grew up in?\n",
      "Delhi\n"
     ]
    }
   ],
   "source": [
    "# Create a greeting for your program.\n",
    "print(\"Welcome to the Band Name generator\")\n",
    "\n",
    "# Ask the user for the city that they grew up in.\n",
    "city = input(\"What is the name of the city you grew up in?\\n\")\n",
    "\n",
    "# Ask the user for the name of a pet.\n",
    "pet = input(\"What is your pet name?\\n\")\n",
    "\n",
    "# Combine the name of their city and pet and show them their band name.\n",
    "print(\"Your Band Name could be \"+city+\" \"+pet+\".\")"
   ]
  },
  {
   "cell_type": "code",
   "execution_count": null,
   "id": "cd1c87f1",
   "metadata": {},
   "outputs": [],
   "source": []
  }
 ],
 "metadata": {
  "kernelspec": {
   "display_name": "Python 3 (ipykernel)",
   "language": "python",
   "name": "python3"
  },
  "language_info": {
   "codemirror_mode": {
    "name": "ipython",
    "version": 3
   },
   "file_extension": ".py",
   "mimetype": "text/x-python",
   "name": "python",
   "nbconvert_exporter": "python",
   "pygments_lexer": "ipython3",
   "version": "3.9.12"
  }
 },
 "nbformat": 4,
 "nbformat_minor": 5
}
